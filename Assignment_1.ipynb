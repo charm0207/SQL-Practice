{
 "cells": [
  {
   "cell_type": "markdown",
   "id": "1fdb2cab-7553-499c-aeb1-aa58d8206169",
   "metadata": {},
   "source": [
    "Q-1. Write an SQL query to fetch “FIRST_NAME” from Worker table using the alias\n",
    "name as <WORKER_NAME>;.\n",
    "\n",
    "Ans-> select first_name\n",
    "      from worker;"
   ]
  },
  {
   "cell_type": "markdown",
   "id": "7b9b00da-83cf-45bb-a82f-ab0c550933e6",
   "metadata": {},
   "source": [
    "Q-2. Write an SQL query to fetch unique values of DEPARTMENT from Worker table.\n",
    "\n",
    "Ans-> select distinct department\n",
    "        from worker;"
   ]
  },
  {
   "cell_type": "code",
   "execution_count": null,
   "id": "27093c57-7466-4ba3-b04c-c8ec9e3870a8",
   "metadata": {},
   "outputs": [],
   "source": [
    "\n"
   ]
  },
  {
   "cell_type": "code",
   "execution_count": null,
   "id": "f2bbe496-7003-4df5-b0f0-e7ea7bb0ecf8",
   "metadata": {},
   "outputs": [],
   "source": []
  },
  {
   "cell_type": "code",
   "execution_count": null,
   "id": "305eb619-3c5f-49f8-9c7b-c24d38a070e0",
   "metadata": {},
   "outputs": [],
   "source": []
  },
  {
   "cell_type": "code",
   "execution_count": null,
   "id": "71f08a12-403c-483d-91fc-33c7d33dfeac",
   "metadata": {},
   "outputs": [],
   "source": []
  }
 ],
 "metadata": {
  "kernelspec": {
   "display_name": "Python 3 (ipykernel)",
   "language": "python",
   "name": "python3"
  },
  "language_info": {
   "codemirror_mode": {
    "name": "ipython",
    "version": 3
   },
   "file_extension": ".py",
   "mimetype": "text/x-python",
   "name": "python",
   "nbconvert_exporter": "python",
   "pygments_lexer": "ipython3",
   "version": "3.11.7"
  }
 },
 "nbformat": 4,
 "nbformat_minor": 5
}
